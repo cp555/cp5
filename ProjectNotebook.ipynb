{
 "cells": [
  {
   "cell_type": "markdown",
   "metadata": {},
   "source": [
    "# Project Description"
   ]
  },
  {
   "cell_type": "markdown",
   "metadata": {},
   "source": [
    "\n",
    "## As a basketball fan, I want to create my small dataset for basketball players.\n",
    "## In this class BasketballPlayer, there's an initializer that contains major statistics for a player, including total points and total assists. In order to get the stats, there are two methods: one that print the total stats for one player's whole career  and another one that print the average stats for one game.\n",
    "## There are also methods to analyze the data. It can compare the average stats between two players. It can anayze the average stats for one player in order to get information about what aspects the player is good at or not good at.\n",
    "## And as a funny part, if you call shoot() to a player, it will show whether get the ball or miss the ball based on the field goal percentage of the player.\n",
    "\n",
    "\n",
    "\n",
    "\n",
    "# data from https://stats.nba.com"
   ]
  },
  {
   "cell_type": "markdown",
   "metadata": {},
   "source": [
    "## Project Code\n",
    "\n",
    "If it makes sense for your project, you can have code and outputs here in the notebook as well."
   ]
  },
  {
   "cell_type": "code",
   "execution_count": 1,
   "metadata": {},
   "outputs": [],
   "source": [
    "from my_module import functions as ball\n",
    "from my_module import test_functions as test"
   ]
  },
  {
   "cell_type": "code",
   "execution_count": 2,
   "metadata": {},
   "outputs": [],
   "source": [
    "# Do a bunch of things.\\"
   ]
  },
  {
   "cell_type": "markdown",
   "metadata": {},
   "source": [
    "## create three players!"
   ]
  },
  {
   "cell_type": "code",
   "execution_count": 3,
   "metadata": {},
   "outputs": [],
   "source": [
    "### create three players\n",
    "\n",
    "cp3 = ball.BasketballPlayer('Chris Paul',950,17597,4261,9181,2122,122,13132,6162)\n",
    "king = ball.BasketballPlayer('Lebron James',1198,32543,8880,8662,1937,921,23478,11838)\n",
    "kobe = ball.BasketballPlayer('Kobe Bryant',1346,33643,7047,6306,1944,640,26200,11719)\n"
   ]
  },
  {
   "cell_type": "markdown",
   "metadata": {},
   "source": [
    "## Try to shoot!             "
   ]
  },
  {
   "cell_type": "code",
   "execution_count": 4,
   "metadata": {},
   "outputs": [
    {
     "name": "stdout",
     "output_type": "stream",
     "text": [
      "\n",
      "                Can they get the shoot?\n",
      "Chris Paul missed it. His overall field goal percentage is around 47.0%.\n",
      "Nice shoot for Lebron James. His overall field goal percentage is around 50.0%.\n",
      "Kobe Bryant missed it. His overall field goal percentage is around 45.0%.\n",
      "\n",
      "\n",
      "                 expected output\n",
      "Nice shoot for         .    His overall field goal percentage is around     %.\n",
      "           missed it. His overall field goal percentage is around     %.\n"
     ]
    }
   ],
   "source": [
    "### try to shoot\n",
    "print(\"\\n\" + \"                Can they get the shoot?\")\n",
    "cp3.shoot()\n",
    "king.shoot()\n",
    "kobe.shoot()\n",
    "\n",
    "\n",
    "###expected output\n",
    "print(\"\\n\")\n",
    "print(\"                 expected output\")\n",
    "print(\"Nice shoot for         .    His overall field goal percentage is around     %.\")\n",
    "print(\"           missed it. His overall field goal percentage is around     %.\")"
   ]
  },
  {
   "cell_type": "markdown",
   "metadata": {},
   "source": [
    "## Test the methods"
   ]
  },
  {
   "cell_type": "code",
   "execution_count": 5,
   "metadata": {},
   "outputs": [
    {
     "name": "stdout",
     "output_type": "stream",
     "text": [
      "success for initializer!\n",
      "success for getTotalStats!\n",
      "success for getAverageDate!\n",
      "success for analysis!\n",
      "success for comparison!\n",
      "success for addGame!\n"
     ]
    }
   ],
   "source": [
    "# test the functions and outputs\n",
    "\n",
    "test.test_init()\n",
    "test.test_getTotalStats()\n",
    "test.test_getAverageData()\n",
    "test.test_analyze()\n",
    "test.test_comparison()\n",
    "test.test_addGame()\n"
   ]
  },
  {
   "cell_type": "markdown",
   "metadata": {},
   "source": [
    "## Try to get statistics and analysis for these players!"
   ]
  },
  {
   "cell_type": "code",
   "execution_count": 6,
   "metadata": {},
   "outputs": [
    {
     "name": "stdout",
     "output_type": "stream",
     "text": [
      "\n",
      "                Chris paul\n",
      "     Chris Paul's total statistics\n",
      "He has totally played 950 games. He got 17597 points, 4261 rebounds, 9181 assists, 2122 steals and 122 blocks.\n",
      "     Chris Paul's average data\n",
      "Chris Paul can get 18.52 points, 4.49 rebounds, 9.66 assists, 2.23 steals and 0.13 blocks in every game. His field goal percentage is 46.92%.\n",
      "     Chris Paul's analysis\n",
      "Chris Paul is a wonderful scorer.  He can always find his teammates and assist them to get scores. He is not so good at catching rebounds. He has a really wonderful sense of judging the path of ball and then stealing it.  He is not so good at blocking. And he has a great efficiency on getting points.\n",
      "\n",
      "                Lebron James\n",
      "     Lebron James's total statistics\n",
      "He has totally played 1198 games. He got 32543 points, 8880 rebounds, 8662 assists, 1937 steals and 921 blocks.\n",
      "     Lebron James's average data\n",
      "Lebron James can get 27.16 points, 7.41 rebounds, 7.23 assists, 1.62 steals and 0.77 blocks in every game. His field goal percentage is 50.42%.\n",
      "     Lebron James's analysis\n",
      "No one can stop Lebron James from getting scores.  He is a wonderful passer.  He is good at catching rebounds. He is good at stealing balls.  He is not so good at blocking. And he has a wonderful efficiency on getting points.\n",
      "\n",
      "                Kobe Bryant\n",
      "     Kobe Bryant's total statistics\n",
      "He has totally played 1346 games. He got 33643 points, 7047 rebounds, 6306 assists, 1944 steals and 640 blocks.\n",
      "     Kobe Bryant's average data\n",
      "Kobe Bryant can get 24.99 points, 5.24 rebounds, 4.68 assists, 1.44 steals and 0.48 blocks in every game. His field goal percentage is 44.73%.\n",
      "     Kobe Bryant's analysis\n",
      "No one can stop Kobe Bryant from getting scores.  He is a wonderful passer.  He is good at catching rebounds. He is good at stealing balls.  He is not so good at blocking. And he has a great efficiency on getting points.\n"
     ]
    }
   ],
   "source": [
    "### print stats and analysis for each player\n",
    "\n",
    "# for Chris Paul\n",
    "print(\"\\n\" + \"                Chris paul\")\n",
    "cp3_total_stats = cp3.getTotalStats()\n",
    "print(cp3_total_stats)\n",
    "cp3_average_stats = cp3.getAverage()\n",
    "print(cp3_average_stats)\n",
    "cp3_analysis = cp3.analyze()\n",
    "print(cp3_analysis)\n",
    "\n",
    "# for Lebron James\n",
    "print(\"\\n\" + \"                Lebron James\")\n",
    "king_total_stats = king.getTotalStats()\n",
    "print(king_total_stats)\n",
    "king_average_stats = king.getAverage()\n",
    "print(king_average_stats)\n",
    "king_analysis = king.analyze()\n",
    "print(king_analysis)\n",
    "\n",
    "# for Kobe Bryant\n",
    "print(\"\\n\" + \"                Kobe Bryant\")\n",
    "kobe_total_stats = kobe.getTotalStats()\n",
    "print(kobe_total_stats)\n",
    "kobe_average_stats = kobe.getAverage()\n",
    "print(kobe_average_stats)\n",
    "kobe_analysis = kobe.analyze()\n",
    "print(kobe_analysis)"
   ]
  },
  {
   "cell_type": "markdown",
   "metadata": {},
   "source": [
    "## They had a game together!"
   ]
  },
  {
   "cell_type": "code",
   "execution_count": 7,
   "metadata": {},
   "outputs": [
    {
     "name": "stdout",
     "output_type": "stream",
     "text": [
      "\n",
      "                Now they just finished a game. See what happened.\n",
      "\n",
      "                Chris paul after the game\n",
      "     Chris Paul's total statistics\n",
      "He has totally played 951 games. He got 17615 points, 4267 rebounds, 9189 assists, 2124 steals and 123 blocks.\n",
      "     Chris Paul's average data\n",
      "Chris Paul can get 18.52 points, 4.49 rebounds, 9.66 assists, 2.23 steals and 0.13 blocks in every game. His field goal percentage is 47.04%.\n",
      "\n",
      "                Lebron James after the game\n",
      "     Lebron James's total statistics\n",
      "He has totally played 1199 games. He got 32572 points, 8888 rebounds, 8671 assists, 1938 steals and 922 blocks.\n",
      "     Lebron James's average data\n",
      "Lebron James can get 27.17 points, 7.41 rebounds, 7.23 assists, 1.62 steals and 0.77 blocks in every game. His field goal percentage is 50.5%.\n",
      "\n",
      "                Kobe Bryant after the game\n",
      "     Kobe Bryant's total statistics\n",
      "He has totally played 1347 games. He got 33669 points, 7054 rebounds, 6311 assists, 1946 steals and 640 blocks.\n",
      "     Kobe Bryant's average data\n",
      "Kobe Bryant can get 25.0 points, 5.24 rebounds, 4.69 assists, 1.44 steals and 0.48 blocks in every game. His field goal percentage is 44.81%.\n"
     ]
    }
   ],
   "source": [
    "## what if they have another game together?\n",
    "# add a game\n",
    "print(\"\\n\" + \"                Now they just finished a game. See what happened.\")\n",
    "kobe.addGame(26,7,5,2,0,11,26)\n",
    "cp3.addGame(18,6,8,2,1,8,19)\n",
    "king.addGame(29,8,9,1,1,13,25)\n",
    "\n",
    "# see the change\n",
    "\n",
    "print(\"\\n\" + \"                Chris paul after the game\")\n",
    "cp3_total_stats = cp3.getTotalStats()\n",
    "print(cp3_total_stats)\n",
    "cp3_average_stats = cp3.getAverage()\n",
    "print(cp3_average_stats)\n",
    "\n",
    "print(\"\\n\" + \"                Lebron James after the game\")\n",
    "king_total_stats = king.getTotalStats()\n",
    "print(king_total_stats)\n",
    "king_average_stats = king.getAverage()\n",
    "print(king_average_stats)\n",
    "\n",
    "print(\"\\n\" + \"                Kobe Bryant after the game\")\n",
    "kobe_total_stats = kobe.getTotalStats()\n",
    "print(kobe_total_stats)\n",
    "kobe_average_stats = kobe.getAverage()\n",
    "print(kobe_average_stats)\n",
    "\n",
    "\n"
   ]
  },
  {
   "cell_type": "markdown",
   "metadata": {},
   "source": [
    "## Compare these players!          "
   ]
  },
  {
   "cell_type": "code",
   "execution_count": 8,
   "metadata": {},
   "outputs": [
    {
     "name": "stdout",
     "output_type": "stream",
     "text": [
      "\n",
      "                Comparison\n",
      "\n",
      "     Compare Lebron James with Chris Paul\n",
      "Lebron James can get 8.64 more points, 2.43 less assists, 2.93 more rebounds, 0.62 less steals, 0.64 more blocks than Chris Paul for every game. And Lebron James has 3.46% better field goal percentage than Chris Paul does.\n",
      "\n",
      "     Compare Kobe Bryant with Lebron James\n",
      "Kobe Bryant can get 2.17 less points, 2.55 less assists, 2.18 less rebounds, 0.17 less steals, 0.29 less blocks than Lebron James for every game. And Lebron James has 5.69% better field goal percentage than Kobe Bryant does.\n",
      "\n",
      "     Compare Lebron James with Kobe Bryant\n",
      "Lebron James can get 2.17 more points, 2.55 more assists, 2.18 more rebounds, 0.17 more steals, 0.29 more blocks than Kobe Bryant for every game. And Lebron James has 5.69% better field goal percentage than Kobe Bryant does.\n"
     ]
    }
   ],
   "source": [
    "### compare each players\n",
    "print(\"\\n\" + \"                Comparison\")\n",
    "\n",
    "compare_king_cp3 = king.compareAverage(cp3)\n",
    "print(\"\\n\" + compare_king_cp3)\n",
    "\n",
    "compare_kobe_cp3 = kobe.compareAverage(king)\n",
    "print(\"\\n\" + compare_kobe_cp3)\n",
    "\n",
    "compare_king_kobe = king.compareAverage(kobe)\n",
    "print(\"\\n\" + compare_king_kobe)\n",
    "\n"
   ]
  },
  {
   "cell_type": "code",
   "execution_count": null,
   "metadata": {},
   "outputs": [],
   "source": []
  },
  {
   "cell_type": "code",
   "execution_count": null,
   "metadata": {},
   "outputs": [],
   "source": []
  },
  {
   "cell_type": "code",
   "execution_count": null,
   "metadata": {},
   "outputs": [],
   "source": []
  }
 ],
 "metadata": {
  "kernelspec": {
   "display_name": "Python 3",
   "language": "python",
   "name": "python3"
  },
  "language_info": {
   "codemirror_mode": {
    "name": "ipython",
    "version": 3
   },
   "file_extension": ".py",
   "mimetype": "text/x-python",
   "name": "python",
   "nbconvert_exporter": "python",
   "pygments_lexer": "ipython3",
   "version": "3.7.1"
  }
 },
 "nbformat": 4,
 "nbformat_minor": 2
}
